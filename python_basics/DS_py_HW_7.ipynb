{
  "nbformat": 4,
  "nbformat_minor": 0,
  "metadata": {
    "colab": {
      "provenance": [],
      "include_colab_link": true
    },
    "kernelspec": {
      "name": "python3",
      "display_name": "Python 3"
    },
    "language_info": {
      "name": "python"
    }
  },
  "cells": [
    {
      "cell_type": "markdown",
      "metadata": {
        "id": "view-in-github",
        "colab_type": "text"
      },
      "source": [
        "<a href=\"https://colab.research.google.com/github/lelyashashlyk/DataScienceLearning/blob/main/python_basics/DS_py_HW_7.ipynb\" target=\"_parent\"><img src=\"https://colab.research.google.com/assets/colab-badge.svg\" alt=\"Open In Colab\"/></a>"
      ]
    },
    {
      "cell_type": "markdown",
      "source": [
        "# Task 1\n",
        "Создайте функцию func1, которая будет принтить вам строку 'hello'"
      ],
      "metadata": {
        "id": "nz5PCxQBQn08"
      }
    },
    {
      "cell_type": "code",
      "source": [
        "def func1():\n",
        "  print('Hello!')\n",
        "\n",
        "func1()\n"
      ],
      "metadata": {
        "id": "iOPLDHn4QrHY",
        "colab": {
          "base_uri": "https://localhost:8080/"
        },
        "outputId": "cb8099b6-e5ab-4e26-b76d-14af9179c4cd"
      },
      "execution_count": 1,
      "outputs": [
        {
          "output_type": "stream",
          "name": "stdout",
          "text": [
            "Hello!\n"
          ]
        }
      ]
    },
    {
      "cell_type": "markdown",
      "source": [
        "# Task 2\n",
        "Создайте функцию func2, которая будет принимать два числа в качестве аргументов\n",
        "и возвращать их сложение\n"
      ],
      "metadata": {
        "id": "VLrmzPAnQ4li"
      }
    },
    {
      "cell_type": "code",
      "source": [
        "def func2(a, b):\n",
        "  return a+b\n",
        "\n",
        "num1 = int(input('Input your first number:\\t'))\n",
        "num2 = int(input('Input your secont number:\\t'))\n",
        "\n",
        "func2(num1,num2)"
      ],
      "metadata": {
        "id": "EI6m7x-bQ8ow",
        "colab": {
          "base_uri": "https://localhost:8080/"
        },
        "outputId": "6ca027cf-f401-4b6c-cd56-263b9ffc61b8"
      },
      "execution_count": 2,
      "outputs": [
        {
          "name": "stdout",
          "output_type": "stream",
          "text": [
            "Input your first number:\t9\n",
            "Input your secont number:\t8\n"
          ]
        },
        {
          "output_type": "execute_result",
          "data": {
            "text/plain": [
              "17"
            ]
          },
          "metadata": {},
          "execution_count": 2
        }
      ]
    },
    {
      "cell_type": "markdown",
      "source": [
        "# Task 3\n",
        "Создайте функцию wallet, которая принимает два аргумента:\n",
        "\n",
        "1) на что потрачены деньги\n",
        "\n",
        "2) сколько потрачено\n",
        "\n",
        "В итоге функция должна возвращать строку в виде\n",
        "\n",
        "```'На *example_молоко* было потрачено *example_60* сом'```\n"
      ],
      "metadata": {
        "id": "-Jurlc2DRAGw"
      }
    },
    {
      "cell_type": "code",
      "source": [
        "def wallet(spend1, spend2):\n",
        "  print(f'На {spend1} было потрачено {spend2} сом')\n",
        "\n",
        "params = input('Enter what you spent on and how much you spent separated by a space:\\t').split()\n",
        "wallet(params[0], params[1])"
      ],
      "metadata": {
        "id": "o4WrvEZkRAbw",
        "colab": {
          "base_uri": "https://localhost:8080/"
        },
        "outputId": "cdbd9801-884d-411e-b03f-045142eb9b50"
      },
      "execution_count": 3,
      "outputs": [
        {
          "output_type": "stream",
          "name": "stdout",
          "text": [
            "Enter what you spent on and how much you spent separated by a space:\t6 8\n",
            "На 6 было потрачено 8 сом\n"
          ]
        }
      ]
    },
    {
      "cell_type": "markdown",
      "source": [
        "# Task 4\n",
        "Создайте функцию ```func4()```, которая на вход будет принимать одну строку, проверять ее и на выходе\n",
        "возвращать строку, заменяя запятые на точки, пробелы на '' - пустые кавычки"
      ],
      "metadata": {
        "id": "bX3CRQ0tRAqE"
      }
    },
    {
      "cell_type": "code",
      "source": [
        "def func4(string1):\n",
        "  return string1.replace(',', '.').replace(' ', '\"')\n",
        "\n",
        "str1 = input('Введите строку для преобразования:\\t')\n",
        "func4(str1)"
      ],
      "metadata": {
        "id": "kbcIy5mkRA6Y",
        "colab": {
          "base_uri": "https://localhost:8080/",
          "height": 53
        },
        "outputId": "8009d6a6-f9b9-408a-bff4-b52e5dded41f"
      },
      "execution_count": 4,
      "outputs": [
        {
          "name": "stdout",
          "output_type": "stream",
          "text": [
            "Введите строку для преобразования:\tрюю.одшюбог,\n"
          ]
        },
        {
          "output_type": "execute_result",
          "data": {
            "text/plain": [
              "'рюю.одшюбог.'"
            ],
            "application/vnd.google.colaboratory.intrinsic+json": {
              "type": "string"
            }
          },
          "metadata": {},
          "execution_count": 4
        }
      ]
    },
    {
      "cell_type": "markdown",
      "source": [
        "# Task 5\n",
        "Создайте две функции ```add``` и ```div```\n",
        "\n",
        "первая функция должна принимать два числа и возвращать их сумму\n",
        "\n",
        "вторая функция должна принимать в качестве первого аргумента результат сложения первой функции и\n",
        "вторым аргументом число. Внутри себя вторая функция будет делить первый аргумент на второй и возвращать результат\n",
        "\n",
        "Например:\n",
        "```\n",
        "add(4, 5) => 9\n",
        "div(9, 3) => 3\n",
        "```"
      ],
      "metadata": {
        "id": "vqu2Gw7cRBMK"
      }
    },
    {
      "cell_type": "code",
      "source": [
        "def add(num1: int, num2: int) -> int:\n",
        " return num1 + num2\n",
        "\n",
        "def div(num1: int, num2: int)-> int:\n",
        "   return round(num1 / num2)\n",
        "\n",
        "s = add(4, 5)\n",
        "print(s, div(s, 3))"
      ],
      "metadata": {
        "id": "9efFdZS4RBap",
        "colab": {
          "base_uri": "https://localhost:8080/"
        },
        "outputId": "6e527e69-513e-43a7-bfc8-6691aeef88ac"
      },
      "execution_count": 5,
      "outputs": [
        {
          "output_type": "stream",
          "name": "stdout",
          "text": [
            "9 3\n"
          ]
        }
      ]
    },
    {
      "cell_type": "markdown",
      "source": [
        "# Task 6\n",
        "Создайте функцию ```mult```, которая в аргументы принимает список чисел и возвращает произведение\n",
        "чисел этого списка.\n",
        "\n",
        "Например:\n",
        "```print(mult([1, 2, 3, 4, 5])) => 120```"
      ],
      "metadata": {
        "id": "xX4O0NskRBpn"
      }
    },
    {
      "cell_type": "code",
      "source": [
        "def mult(lst: list) -> int:\n",
        "  prod = 1\n",
        "  for i in lst:\n",
        "    prod *= i\n",
        "  return prod\n",
        "\n",
        "print(mult([1, 2, 3, 4, 5]))"
      ],
      "metadata": {
        "id": "df5qSGq3RB4j",
        "colab": {
          "base_uri": "https://localhost:8080/"
        },
        "outputId": "404a9add-02ac-4592-e8c5-47eba3f6a719"
      },
      "execution_count": 6,
      "outputs": [
        {
          "output_type": "stream",
          "name": "stdout",
          "text": [
            "120\n"
          ]
        }
      ]
    },
    {
      "cell_type": "markdown",
      "source": [
        "# Task 7\n",
        "Создайте функцию ```str_check```, которая будет проверять есть ли в приходящей ей строке словосочетание\n",
        "'data science', если да возвращать True, нет - False\n"
      ],
      "metadata": {
        "id": "nl55Gp8oRCHk"
      }
    },
    {
      "cell_type": "code",
      "source": [
        "def str_check(s: str)->str:\n",
        "  s = s.replace(' ', '').lower()\n",
        "  if 'datascience' in s:\n",
        "    return True\n",
        "  else: return False\n",
        "\n",
        "str_check('Big data !data Science')"
      ],
      "metadata": {
        "id": "9sW9pRHERCWD",
        "colab": {
          "base_uri": "https://localhost:8080/"
        },
        "outputId": "44877fbf-ad94-47a6-edce-cec3ddb6d393"
      },
      "execution_count": 7,
      "outputs": [
        {
          "output_type": "execute_result",
          "data": {
            "text/plain": [
              "True"
            ]
          },
          "metadata": {},
          "execution_count": 7
        }
      ]
    },
    {
      "cell_type": "markdown",
      "source": [
        "# Task 8\n",
        "Вам дан список\n",
        "```\n",
        "bd = ['Emil', 'Rena', 'Aliya', 'Hur']\n",
        "```\n",
        "создайте функцию ```check```, которая в качестве аргумента будет принимать имя и проверять есть ли это имя\n",
        "в базе данных (bd), если да то возвращать 'yes', нет - 'no'"
      ],
      "metadata": {
        "id": "pK4kYOYbRhiD"
      }
    },
    {
      "cell_type": "code",
      "source": [
        "bd = ['Emil', 'Rena', 'Aliya', 'Hur']\n",
        "\n",
        "def check(name: str)->str:\n",
        "  if name in bd:\n",
        "    return  'yes'\n",
        "  else: return 'no'\n",
        "\n",
        "print(check('Emil'))\n",
        "print(check('Leila'))"
      ],
      "metadata": {
        "id": "5QfD5VvoRhxj",
        "colab": {
          "base_uri": "https://localhost:8080/"
        },
        "outputId": "eb9552d7-7731-4511-f6db-e9f391bd6575"
      },
      "execution_count": 8,
      "outputs": [
        {
          "output_type": "stream",
          "name": "stdout",
          "text": [
            "yes\n",
            "no\n"
          ]
        }
      ]
    },
    {
      "cell_type": "markdown",
      "source": [
        "# Task 9\n",
        "Создайте функцию ```func9()```, которая будет принимать 1 аргумент - число и возвращать два аргумента:\n",
        "принимаемое число и квадрат этого числа\n",
        "\n"
      ],
      "metadata": {
        "id": "1dzCCZNlLKBs"
      }
    },
    {
      "cell_type": "code",
      "source": [
        "def func9(num: int)-> tuple:\n",
        "  return (num, num**2)\n",
        "\n",
        "func9(5)"
      ],
      "metadata": {
        "id": "PcPu_-2NLKe-",
        "colab": {
          "base_uri": "https://localhost:8080/"
        },
        "outputId": "7e7a9167-c4dc-4f0c-edf0-ec25ef249e71"
      },
      "execution_count": 9,
      "outputs": [
        {
          "output_type": "execute_result",
          "data": {
            "text/plain": [
              "(5, 25)"
            ]
          },
          "metadata": {},
          "execution_count": 9
        }
      ]
    },
    {
      "cell_type": "markdown",
      "source": [
        "# Task 10\n",
        "Дана база данных потенциальных кандидатов на место работы\n",
        "```\n",
        "users = [\n",
        "  { 'name': 'Ron', 'age': 18, 'work': 'IT-backend developer'},\n",
        "  { 'name': 'Sam', 'age': 23, 'work': 'Doctor'},\n",
        "  { 'name': 'Bob', 'age': 26, 'work': 'Driver'},\n",
        "  { 'name': 'John', 'age': 39, 'work': 'Teacher'},\n",
        "  { 'name': 'Jack', 'age': 29, 'work': 'IT-frontend developer'}\n",
        "]   \n",
        "```\n",
        "Напишите функцию ```employee```, которая будет смотреть на список users и возвращать имена только тех кандидатов,\n",
        "которым больше 21 и они в сфере IT"
      ],
      "metadata": {
        "id": "6beM0r6-LLCE"
      }
    },
    {
      "cell_type": "code",
      "source": [
        "users = [\n",
        "  { 'name': 'Ron', 'age': 18, 'work': 'IT-backend developer'},\n",
        "  { 'name': 'Sam', 'age': 23, 'work': 'Doctor'},\n",
        "  { 'name': 'Bob', 'age': 26, 'work': 'Driver'},\n",
        "  { 'name': 'John', 'age': 39, 'work': 'Teacher'},\n",
        "  { 'name': 'Jack', 'age': 29, 'work': 'IT-frontend developer'}\n",
        "]\n",
        "\n",
        "def employee():\n",
        "  return [candidat for candidat in users if candidat['age'] > 21 and candidat['work'].find('IT') != -1]\n",
        "\n",
        "employee()"
      ],
      "metadata": {
        "id": "GSaqBBeWLLd_",
        "colab": {
          "base_uri": "https://localhost:8080/"
        },
        "outputId": "39b41d8d-7a86-485f-d81d-968c2a7b42cb"
      },
      "execution_count": 10,
      "outputs": [
        {
          "output_type": "execute_result",
          "data": {
            "text/plain": [
              "[{'name': 'Jack', 'age': 29, 'work': 'IT-frontend developer'}]"
            ]
          },
          "metadata": {},
          "execution_count": 10
        }
      ]
    },
    {
      "cell_type": "markdown",
      "source": [
        "# Task 11\n",
        "Создайте функцию: ```arg_types()```, которая принимает два обязательных параметра.\n",
        "Задача этой функции выводить тип принятых аргументов\n",
        "\n"
      ],
      "metadata": {
        "id": "7cxX9PL7ORoq"
      }
    },
    {
      "cell_type": "code",
      "source": [
        "def arg_types(a, b):\n",
        "  print(type(a), type(b))\n",
        "\n",
        "arg_types(7, 'mal')"
      ],
      "metadata": {
        "id": "kL9gyPj_OSEL",
        "colab": {
          "base_uri": "https://localhost:8080/"
        },
        "outputId": "eb1f1c04-11eb-474d-ae94-08ae4b6bc6bb"
      },
      "execution_count": 11,
      "outputs": [
        {
          "output_type": "stream",
          "name": "stdout",
          "text": [
            "<class 'int'> <class 'str'>\n"
          ]
        }
      ]
    },
    {
      "cell_type": "markdown",
      "source": [
        "# Task 12\n",
        "Создайте функцию ```check_nan```, которая будет принимать обязательным аргументом список и проверять\n",
        "есть ли в этом списке 'nan', если да, то удалять его и возвращать список без nan, если же список чист\n",
        "то вернуть его в изначальном виде"
      ],
      "metadata": {
        "id": "axwhfDXMOSvg"
      }
    },
    {
      "cell_type": "code",
      "source": [
        "lst = ['nan', 8, 3, 'adf', 'nen']\n",
        "lst2 = ['non', 8, 3, 'adf', 'nen']\n",
        "def check_nan(lst: list) -> list:\n",
        "  return [i for i in lst if i != 'nan']\n",
        "\n",
        "check_nan(lst2)"
      ],
      "metadata": {
        "id": "hxgJUhKyOTMs",
        "colab": {
          "base_uri": "https://localhost:8080/"
        },
        "outputId": "1c013e8c-91d4-4501-9de8-e78631c5b7e9"
      },
      "execution_count": 12,
      "outputs": [
        {
          "output_type": "execute_result",
          "data": {
            "text/plain": [
              "['non', 8, 3, 'adf', 'nen']"
            ]
          },
          "metadata": {},
          "execution_count": 12
        }
      ]
    }
  ]
}