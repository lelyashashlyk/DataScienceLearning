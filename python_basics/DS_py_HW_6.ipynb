{
  "nbformat": 4,
  "nbformat_minor": 0,
  "metadata": {
    "colab": {
      "provenance": [],
      "include_colab_link": true
    },
    "kernelspec": {
      "name": "python3",
      "display_name": "Python 3"
    },
    "language_info": {
      "name": "python"
    }
  },
  "cells": [
    {
      "cell_type": "markdown",
      "metadata": {
        "id": "view-in-github",
        "colab_type": "text"
      },
      "source": [
        "<a href=\"https://colab.research.google.com/github/lelyashashlyk/DataScienceLearning/blob/main/python_basics/DS_py_HW_6.ipynb\" target=\"_parent\"><img src=\"https://colab.research.google.com/assets/colab-badge.svg\" alt=\"Open In Colab\"/></a>"
      ]
    },
    {
      "cell_type": "markdown",
      "source": [
        "# Task 1\n",
        "Создайте словарь dict1 и удалите все его элементы специальным методом"
      ],
      "metadata": {
        "id": "nz5PCxQBQn08"
      }
    },
    {
      "cell_type": "code",
      "source": [
        "dict1 = {'a': 'asdf', 'v': 'asfas'}\n",
        "dict1.clear()\n",
        "dict1"
      ],
      "metadata": {
        "id": "iOPLDHn4QrHY",
        "colab": {
          "base_uri": "https://localhost:8080/"
        },
        "outputId": "e6884271-b01d-410f-dc22-c63c30e1428a"
      },
      "execution_count": 1,
      "outputs": [
        {
          "output_type": "execute_result",
          "data": {
            "text/plain": [
              "{}"
            ]
          },
          "metadata": {},
          "execution_count": 1
        }
      ]
    },
    {
      "cell_type": "markdown",
      "source": [
        "# Task 2\n",
        "Дан словарь dict_ = {'a': 1, 'b': 2, 'c': 1}, выведите все его ключи\n"
      ],
      "metadata": {
        "id": "VLrmzPAnQ4li"
      }
    },
    {
      "cell_type": "code",
      "source": [
        "dict_ = {'a': 1, 'b': 2, 'c': 1}\n"
      ],
      "metadata": {
        "id": "EI6m7x-bQ8ow"
      },
      "execution_count": 2,
      "outputs": []
    },
    {
      "cell_type": "code",
      "source": [
        "dict_.keys()"
      ],
      "metadata": {
        "colab": {
          "base_uri": "https://localhost:8080/"
        },
        "id": "OmcADfCZYNEJ",
        "outputId": "7d84b22f-bec8-430d-93e6-c5d8daaa864b"
      },
      "execution_count": 3,
      "outputs": [
        {
          "output_type": "execute_result",
          "data": {
            "text/plain": [
              "dict_keys(['a', 'b', 'c'])"
            ]
          },
          "metadata": {},
          "execution_count": 3
        }
      ]
    },
    {
      "cell_type": "markdown",
      "source": [
        "# Task 3\n",
        "Используя предыдущий словарь проитерируйте его по парам ключ-значение\n",
        "и распечатайте каждую пару\n"
      ],
      "metadata": {
        "id": "-Jurlc2DRAGw"
      }
    },
    {
      "cell_type": "code",
      "source": [
        "for i,j in dict_.items():\n",
        "  print(i,j)"
      ],
      "metadata": {
        "id": "o4WrvEZkRAbw",
        "colab": {
          "base_uri": "https://localhost:8080/"
        },
        "outputId": "2187ba77-d030-4122-d188-4f9ab125d438"
      },
      "execution_count": 4,
      "outputs": [
        {
          "output_type": "stream",
          "name": "stdout",
          "text": [
            "a 1\n",
            "b 2\n",
            "c 1\n"
          ]
        }
      ]
    },
    {
      "cell_type": "markdown",
      "source": [
        "# Task 4\n",
        "Из словаря dict4 = {'a': 1, 'b': 4, 'c': 1, 'd': 5, 'e': 6}\n",
        "удалите пары у которых значение меньше 4"
      ],
      "metadata": {
        "id": "bX3CRQ0tRAqE"
      }
    },
    {
      "cell_type": "code",
      "source": [
        "dict4 = {'a': 1, 'b': 4, 'c': 1, 'd': 5, 'e': 6}\n",
        "for k, v in list(dict4.items()):\n",
        "  if v < 4:\n",
        "    dict4.pop(k)\n",
        "dict4\n"
      ],
      "metadata": {
        "id": "kbcIy5mkRA6Y",
        "colab": {
          "base_uri": "https://localhost:8080/"
        },
        "outputId": "124c13d4-7fbd-4c43-d0c7-91e0d7ed8072"
      },
      "execution_count": 5,
      "outputs": [
        {
          "output_type": "execute_result",
          "data": {
            "text/plain": [
              "{'b': 4, 'd': 5, 'e': 6}"
            ]
          },
          "metadata": {},
          "execution_count": 5
        }
      ]
    },
    {
      "cell_type": "markdown",
      "source": [
        "# Task 5\n",
        "Дан словарь\n",
        "```\n",
        "dict5 = {1: {'a': 1}, 2: {'b': 4}, 3: {'c': 1}, 4: {'d': 5}, 5: {'e': 6}}\n",
        "```\n",
        "Сделайте так, чтобы значениями внешних ключей были ключи внутренних словарей.\n",
        "\n",
        "Например {1: 'a', 2: 'b', ....}"
      ],
      "metadata": {
        "id": "vqu2Gw7cRBMK"
      }
    },
    {
      "cell_type": "code",
      "source": [
        "dict5 = {1: {'a': 1}, 2: {'b': 4}, 3: {'c': 1}, 4: {'d': 5}, 5: {'e': 6}}\n",
        "for v in dict5.values():\n",
        "    for vv in v.keys():\n",
        "      dict5[1] = vv\n",
        "dict5"
      ],
      "metadata": {
        "id": "9efFdZS4RBap",
        "colab": {
          "base_uri": "https://localhost:8080/"
        },
        "outputId": "2c342e7a-caaa-4a70-bcfa-ba6fc511d687"
      },
      "execution_count": 6,
      "outputs": [
        {
          "output_type": "execute_result",
          "data": {
            "text/plain": [
              "{1: 'e', 2: {'b': 4}, 3: {'c': 1}, 4: {'d': 5}, 5: {'e': 6}}"
            ]
          },
          "metadata": {},
          "execution_count": 6
        }
      ]
    },
    {
      "cell_type": "markdown",
      "source": [
        "# Task 7\n",
        "В словарь dict7 = {'a': 1, 'b': 2, 'c': 1} добавьте новую пару ('d', 3)\n"
      ],
      "metadata": {
        "id": "nl55Gp8oRCHk"
      }
    },
    {
      "cell_type": "code",
      "source": [
        "# Первый вариант\n",
        "\n",
        "dict7 = {'a': 1, 'b': 2, 'c': 1}\n",
        "dict7['d'] = 3\n",
        "dict7"
      ],
      "metadata": {
        "id": "9sW9pRHERCWD",
        "colab": {
          "base_uri": "https://localhost:8080/"
        },
        "outputId": "970a8c95-9d17-4fd2-d9dc-37642cd6b47a"
      },
      "execution_count": 7,
      "outputs": [
        {
          "output_type": "execute_result",
          "data": {
            "text/plain": [
              "{'a': 1, 'b': 2, 'c': 1, 'd': 3}"
            ]
          },
          "metadata": {},
          "execution_count": 7
        }
      ]
    },
    {
      "cell_type": "code",
      "source": [
        "# Второй вариант\n",
        "\n",
        "dict7 = {'a': 1, 'b': 2, 'c': 1}\n",
        "pair = ('d', 3)\n",
        "key, val = pair\n",
        "dict7[key] = val\n",
        "dict7"
      ],
      "metadata": {
        "colab": {
          "base_uri": "https://localhost:8080/"
        },
        "id": "Dw6eTYutayK8",
        "outputId": "1cee0525-4dbc-4d2e-9f64-27c20ceadc18"
      },
      "execution_count": 8,
      "outputs": [
        {
          "output_type": "execute_result",
          "data": {
            "text/plain": [
              "{'a': 1, 'b': 2, 'c': 1, 'd': 3}"
            ]
          },
          "metadata": {},
          "execution_count": 8
        }
      ]
    },
    {
      "cell_type": "code",
      "source": [
        "# Третий вариант\n",
        "\n",
        "dict7 = {'a': 1, 'b': 2, 'c': 1}\n",
        "pair = ('d', 3)\n",
        "dict7[pair[0]] = pair[1]\n",
        "dict7"
      ],
      "metadata": {
        "colab": {
          "base_uri": "https://localhost:8080/"
        },
        "id": "i3un1A_2bCOu",
        "outputId": "7c487e58-aa81-4251-ecf7-3c4b6fac1287"
      },
      "execution_count": 9,
      "outputs": [
        {
          "output_type": "execute_result",
          "data": {
            "text/plain": [
              "{'a': 1, 'b': 2, 'c': 1, 'd': 3}"
            ]
          },
          "metadata": {},
          "execution_count": 9
        }
      ]
    },
    {
      "cell_type": "markdown",
      "source": [
        "# Task 9\n",
        "Даны два словаря ```d1 = {'a': 1, 'b': 2}```, ```d2 = {'c': 3, 'd': 4}```, объедините их в переменной  dict9. Используйте `update()`\n",
        "\n"
      ],
      "metadata": {
        "id": "1dzCCZNlLKBs"
      }
    },
    {
      "cell_type": "code",
      "source": [
        "d1 = {'a': 1, 'b': 2}\n",
        "d2 = {'c': 3, 'd': 4}\n",
        "dict9 = {}\n",
        "dict9.update(d1)\n",
        "dict9.update(d2)\n",
        "print(dict9)"
      ],
      "metadata": {
        "id": "PcPu_-2NLKe-",
        "colab": {
          "base_uri": "https://localhost:8080/"
        },
        "outputId": "70146a99-6483-4f35-ecf6-8a6523300b96"
      },
      "execution_count": 10,
      "outputs": [
        {
          "output_type": "stream",
          "name": "stdout",
          "text": [
            "{'a': 1, 'b': 2, 'c': 3, 'd': 4}\n"
          ]
        }
      ]
    }
  ]
}