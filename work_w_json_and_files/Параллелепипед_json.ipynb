{
  "nbformat": 4,
  "nbformat_minor": 0,
  "metadata": {
    "colab": {
      "provenance": [],
      "include_colab_link": true
    },
    "kernelspec": {
      "name": "python3",
      "display_name": "Python 3"
    },
    "language_info": {
      "name": "python"
    }
  },
  "cells": [
    {
      "cell_type": "markdown",
      "metadata": {
        "id": "view-in-github",
        "colab_type": "text"
      },
      "source": [
        "<a href=\"https://colab.research.google.com/github/lelyashashlyk/DataScienceLearning/blob/main/work_w_json_and_files/%D0%9F%D0%B0%D1%80%D0%B0%D0%BB%D0%BB%D0%B5%D0%BB%D0%B5%D0%BF%D0%B8%D0%BF%D0%B5%D0%B4_json.ipynb\" target=\"_parent\"><img src=\"https://colab.research.google.com/assets/colab-badge.svg\" alt=\"Open In Colab\"/></a>"
      ]
    },
    {
      "cell_type": "markdown",
      "source": [
        "# Задача по параллелепипеду\n",
        "## **Выполнено студентом Шайыковой Лейлой**"
      ],
      "metadata": {
        "id": "woamHnoHgYr-"
      }
    },
    {
      "cell_type": "markdown",
      "source": [
        "Импортируем в самом начале все необходимые модули и функции из модулей"
      ],
      "metadata": {
        "id": "xdn9X358ly6L"
      }
    },
    {
      "cell_type": "code",
      "source": [
        "from IPython.display import HTML\n",
        "import json\n",
        "import math as mt\n",
        "from time import sleep"
      ],
      "metadata": {
        "id": "ZrOOF2hNiVP5"
      },
      "execution_count": 1,
      "outputs": []
    },
    {
      "cell_type": "markdown",
      "source": [
        "Затем загрузим файл json"
      ],
      "metadata": {
        "id": "F47eTEHOlyrL"
      }
    },
    {
      "cell_type": "code",
      "execution_count": 2,
      "metadata": {
        "colab": {
          "base_uri": "https://localhost:8080/"
        },
        "collapsed": true,
        "id": "pI73NHwNgWRO",
        "outputId": "8152f542-f8ea-4f1f-95d5-2cc9a7fb8a2f"
      },
      "outputs": [
        {
          "output_type": "stream",
          "name": "stdout",
          "text": [
            "--2025-07-08 12:08:48--  https://www.dropbox.com/scl/fi/yhqf1ebi17myh05ywa8so/parallelepipeds.json?rlkey=qypz0m2r0tslkqwmv8tqxh5jx&dl=0\n",
            "Resolving www.dropbox.com (www.dropbox.com)... 162.125.4.18, 2620:100:6057:18::a27d:d12\n",
            "Connecting to www.dropbox.com (www.dropbox.com)|162.125.4.18|:443... connected.\n",
            "HTTP request sent, awaiting response... 302 Found\n",
            "Location: https://uca2007d5359616b90d3b0252b74.dl.dropboxusercontent.com/cd/0/inline/CtFWNZx3shMP8CMj8hX3wChGTI26v0GICPaioKlzwP0e1uAqrXz0JF4H1zsvPNMP7_ERy3T4aCO5qWALNL-dZKrBy-8XFArDCcITMO9j8bTEUdvohka1YohmrrnAC_tVlh7-5Z5Jqt0RQcDjfUhZziRb/file# [following]\n",
            "--2025-07-08 12:08:49--  https://uca2007d5359616b90d3b0252b74.dl.dropboxusercontent.com/cd/0/inline/CtFWNZx3shMP8CMj8hX3wChGTI26v0GICPaioKlzwP0e1uAqrXz0JF4H1zsvPNMP7_ERy3T4aCO5qWALNL-dZKrBy-8XFArDCcITMO9j8bTEUdvohka1YohmrrnAC_tVlh7-5Z5Jqt0RQcDjfUhZziRb/file\n",
            "Resolving uca2007d5359616b90d3b0252b74.dl.dropboxusercontent.com (uca2007d5359616b90d3b0252b74.dl.dropboxusercontent.com)... 162.125.4.15, 2620:100:6057:15::a27d:d0f\n",
            "Connecting to uca2007d5359616b90d3b0252b74.dl.dropboxusercontent.com (uca2007d5359616b90d3b0252b74.dl.dropboxusercontent.com)|162.125.4.15|:443... connected.\n",
            "HTTP request sent, awaiting response... 200 OK\n",
            "Length: 8059 (7.9K) [text/plain]\n",
            "Saving to: ‘parallelepipeds.json’\n",
            "\n",
            "parallelepipeds.jso 100%[===================>]   7.87K  --.-KB/s    in 0s      \n",
            "\n",
            "2025-07-08 12:08:50 (1.99 GB/s) - ‘parallelepipeds.json’ saved [8059/8059]\n",
            "\n"
          ]
        }
      ],
      "source": [
        "!wget 'https://www.dropbox.com/scl/fi/yhqf1ebi17myh05ywa8so/parallelepipeds.json?rlkey=qypz0m2r0tslkqwmv8tqxh5jx&dl=0' -O 'parallelepipeds.json'"
      ]
    },
    {
      "cell_type": "markdown",
      "source": [
        "Загрузим данные из json-файла в словарь для дальнейшей работы. За одно проверим верно ли выгрузилось через проверку типа данных"
      ],
      "metadata": {
        "id": "K65OK_FRlyRR"
      }
    },
    {
      "cell_type": "code",
      "source": [
        "with open('/content/parallelepipeds.json', 'r') as pp_json:\n",
        "  pp_data = json.load(pp_json)\n",
        "\n",
        "print( f'\\n{type(pp_data)}')"
      ],
      "metadata": {
        "colab": {
          "base_uri": "https://localhost:8080/"
        },
        "id": "eU09WSxCj61N",
        "outputId": "a1ef9910-b3a4-4e03-d0cf-3e0979888a61"
      },
      "execution_count": 3,
      "outputs": [
        {
          "output_type": "stream",
          "name": "stdout",
          "text": [
            "\n",
            "<class 'dict'>\n"
          ]
        }
      ]
    },
    {
      "cell_type": "markdown",
      "source": [
        "Запишем все высчитанные необходимые данные по каждой фигуре в новый словарь, чтобы позже записать его в новый json-файл. ЧТо нужно рассчитать:\n",
        "\n",
        "\n",
        "\n",
        "1.   diag - Главная диагональ\n",
        "2.   volume - объем параллелограмма\n",
        "3.   surface_area - площадь поверхности параллелограма\n",
        "4.   alpha - угол между диагональю и стороной  a  в градусах!!!\n",
        "5.   beta - угол между диагональю и стороной  b  в градусах!!!\n",
        "6.   gamma - угол между диагональю и стороной  c  в градусах!!!\n",
        "7.   radius_described_sphere - радиус описаной сферы (равен половине гл. диагонали)\n",
        "8.   volume_described_sphere - объем описаной сферы."
      ],
      "metadata": {
        "id": "WVpnGGRamYhj"
      }
    },
    {
      "cell_type": "code",
      "source": [
        "fin_dict = {}\n",
        "\n",
        "for i in range(len(pp_data)):\n",
        "  ifig = \"figure_\" + str(i+1)\n",
        "  fin_dict[ifig] = {}\n",
        "  a = int(pp_data[ifig][\"a\"])\n",
        "  b = int(pp_data[ifig][\"b\"])\n",
        "  c = int(pp_data[ifig][\"c\"])\n",
        "  fin_dict[ifig]['diag'] = str(round((a**2 + b**2 + c**2)**.5, 2))\n",
        "  fin_dict[ifig]['volume'] = str(a*b*c)\n",
        "  fin_dict[ifig]['surface_area'] = str(2*(a*b + b*c + a*c))\n",
        "  fin_dict[ifig]['alpha'] = str(round(mt.degrees(mt.acos(a / float(fin_dict[ifig]['diag']))), 2)) # mt.degrees - не забываем про перевод в градусы из радиан\n",
        "  fin_dict[ifig]['beta'] = str(round(mt.degrees(mt.acos(b / float(fin_dict[ifig]['diag']))), 2))\n",
        "  fin_dict[ifig]['gamma'] = str(round(mt.degrees(mt.acos(c / float(fin_dict[ifig]['diag']))), 2))\n",
        "  fin_dict[ifig]['radius_described_sphere'] = str(float(fin_dict[ifig]['diag'])/2)\n",
        "  fin_dict[ifig]['volume_described_sphere'] = str(round((4/3) * mt.pi * (float(fin_dict[ifig]['diag'])**3), 2))\n",
        "\n"
      ],
      "metadata": {
        "id": "RdHdtzHVlgNH"
      },
      "execution_count": 4,
      "outputs": []
    },
    {
      "cell_type": "code",
      "source": [
        "for i in range(len(fin_dict)):\n",
        "  ifig = \"figure_\" + str(i+1)\n",
        "  print(fin_dict[ifig]['volume_described_sphere'])"
      ],
      "metadata": {
        "colab": {
          "base_uri": "https://localhost:8080/"
        },
        "id": "n4grAxnTNUE9",
        "outputId": "a3f61ad1-a7f9-4673-d275-ced9e207a36f"
      },
      "execution_count": 5,
      "outputs": [
        {
          "output_type": "stream",
          "name": "stdout",
          "text": [
            "1098.07\n",
            "54292.23\n",
            "95342.85\n",
            "65764.51\n",
            "18988.15\n",
            "35823.54\n",
            "18578.1\n",
            "9525.02\n",
            "39854.88\n",
            "51431.76\n",
            "65764.51\n",
            "10629.96\n",
            "37857.89\n",
            "19404.19\n",
            "70854.3\n",
            "21650.78\n",
            "34628.37\n",
            "22295.71\n",
            "12120.85\n",
            "39854.88\n",
            "14222.16\n",
            "20908.11\n",
            "46015.8\n",
            "69292.6\n",
            "21.69\n",
            "63737.13\n",
            "47649.35\n",
            "141680.04\n",
            "319.29\n",
            "36724.39\n",
            "46015.8\n",
            "108083.91\n",
            "73452.41\n",
            "5306.04\n",
            "34628.37\n",
            "55973.42\n",
            "9525.02\n",
            "22410.83\n",
            "35144.69\n",
            "34015.49\n",
            "33610.95\n",
            "24674.13\n",
            "30773.54\n",
            "2720.46\n",
            "104503.12\n",
            "14507.93\n",
            "42389.49\n",
            "14623.3\n",
            "51098.08\n",
            "38792.39\n",
            "64667.59\n",
            "28730.91\n",
            "11322.49\n",
            "27303.56\n",
            "20146.79\n",
            "26009.09\n",
            "23306.65\n",
            "2041.8\n",
            "28867.22\n",
            "41051.58\n",
            "43217.92\n",
            "32861.11\n",
            "45151.87\n",
            "43098.92\n",
            "81899.53\n",
            "56399.07\n",
            "11667.31\n",
            "38240.84\n",
            "10700.26\n",
            "25127.74\n",
            "588.98\n",
            "81626.22\n",
            "12743.65\n",
            "44723.99\n",
            "86923.82\n",
            "25586.87\n",
            "10123.86\n",
            "21990.64\n",
            "50965.01\n",
            "53877.26\n",
            "27655.86\n",
            "45582.47\n",
            "31781.64\n",
            "69129.56\n",
            "44907.04\n",
            "50965.01\n",
            "29324.7\n",
            "49386.17\n",
            "28011.17\n",
            "1098.07\n",
            "31781.64\n",
            "26393.03\n",
            "41166.79\n",
            "61903.08\n",
            "21763.68\n",
            "26136.65\n",
            "38792.39\n",
            "46389.41\n",
            "9287.98\n",
            "41340.0\n"
          ]
        }
      ]
    },
    {
      "cell_type": "markdown",
      "source": [
        "Теперь когда у нас есть данные по всем фигурам, рассчитаем среднее значение по каждой характеристике"
      ],
      "metadata": {
        "id": "kLyNc0SUnj8S"
      }
    },
    {
      "cell_type": "code",
      "source": [
        "data_dict = dict.fromkeys(('avg_diag', 'avg_volume', 'avg_surface_area', 'avg_alpha', 'avg_beta', 'avg_gamma', 'avg_radius_described_sphere', 'avg_volume_described_sphere'), 0)\n",
        "n = len(fin_dict)\n",
        "\n",
        "for i in range(n):\n",
        "  ifig = \"figure_\" + str(i+1)\n",
        "  data_dict[\"avg_diag\"] += float(fin_dict[ifig]['diag'])\n",
        "  data_dict[\"avg_volume\"] += float(fin_dict[ifig]['volume'])\n",
        "  data_dict[\"avg_surface_area\"] += float(fin_dict[ifig]['surface_area'])\n",
        "  data_dict[\"avg_alpha\"] += float(fin_dict[ifig]['alpha'])\n",
        "  data_dict[\"avg_beta\"] += float(fin_dict[ifig]['beta'])\n",
        "  data_dict[\"avg_gamma\"] += float(fin_dict[ifig]['gamma'])\n",
        "  data_dict[\"avg_radius_described_sphere\"] += float(fin_dict[ifig]['radius_described_sphere'])\n",
        "  data_dict[\"avg_volume_described_sphere\"] += float(fin_dict[ifig]['volume_described_sphere'])\n",
        "\n",
        "\n",
        "for key in data_dict.keys():\n",
        "  data_dict[key] = str(round(data_dict[key]/n, 2))\n",
        "\n",
        "data_dict"
      ],
      "metadata": {
        "colab": {
          "base_uri": "https://localhost:8080/"
        },
        "id": "ekvfF06anxcx",
        "outputId": "7963c4f6-9c2f-47f6-f052-ed4e11f12b35"
      },
      "execution_count": 6,
      "outputs": [
        {
          "output_type": "execute_result",
          "data": {
            "text/plain": [
              "{'avg_diag': '19.36',\n",
              " 'avg_volume': '1083.06',\n",
              " 'avg_surface_area': '627.68',\n",
              " 'avg_alpha': '56.65',\n",
              " 'avg_beta': '57.81',\n",
              " 'avg_gamma': '55.5',\n",
              " 'avg_radius_described_sphere': '9.68',\n",
              " 'avg_volume_described_sphere': '37223.39'}"
            ]
          },
          "metadata": {},
          "execution_count": 6
        }
      ]
    },
    {
      "cell_type": "markdown",
      "source": [
        "## Вывод статистики средних значений, высчитанных ранее, в html странице:"
      ],
      "metadata": {
        "id": "quQcpVbDkFth"
      }
    },
    {
      "cell_type": "code",
      "source": [
        "def generate_html(data_dict):\n",
        "    html_content = f\"\"\"\n",
        "<!DOCTYPE html>\n",
        "<html lang=\"en\">\n",
        "<head>\n",
        "    <meta charset=\"UTF-8\">\n",
        "    <meta name=\"viewport\" content=\"width=device-width, initial-scale=1.0\">\n",
        "    <title>Data Summary</title>\n",
        "    <style>\n",
        "        body {{\n",
        "            background-color: #000000;\n",
        "            color: #FFFFFF;\n",
        "            font-family: Arial, sans-serif;\n",
        "            display: flex;\n",
        "            flex-direction: column;\n",
        "            align-items: center;\n",
        "            justify-content: center;\n",
        "            height: 100vh;\n",
        "            margin: 0;\n",
        "        }}\n",
        "        .container {{\n",
        "            text-align: center;\n",
        "            width: 80%;\n",
        "            margin: 0 auto;\n",
        "        }}\n",
        "        table {{\n",
        "            border-collapse: collapse;\n",
        "            width: 100%;\n",
        "            margin-top: 20px;\n",
        "            background-color: #1c1c1c;\n",
        "        }}\n",
        "        th, td {{\n",
        "            border: 1px solid #444;\n",
        "            padding: 10px;\n",
        "            text-align: center;\n",
        "        }}\n",
        "        th {{\n",
        "            background-color: #333;\n",
        "        }}\n",
        "        td {{\n",
        "            background-color: #222;\n",
        "        }}\n",
        "        h1, p {{\n",
        "            margin: 10px;\n",
        "        }}\n",
        "        .header {{\n",
        "            color: #FFD700;\n",
        "        }}\n",
        "        #asciiArt {{\n",
        "            font-family: monospace;\n",
        "            white-space: pre;\n",
        "            color: #FFD700;\n",
        "            position: absolute;\n",
        "            top: 10px;\n",
        "            right: 10px;\n",
        "        }}\n",
        "    </style>\n",
        "</head>\n",
        "<body>\n",
        "    <div class=\"container\">\n",
        "        <h1 class=\"header\">Data Summary</h1>\n",
        "        <p>Мы обработали полученные фигуры и подвели статистику</p>\n",
        "        <table>\n",
        "            <tr>\n",
        "                <th>Parameter</th>\n",
        "                <th>Value</th>\n",
        "            </tr>\n",
        "            <tr>\n",
        "                <td>Average Diagonal</td>\n",
        "                <td>{data_dict['avg_diag']}</td>\n",
        "            </tr>\n",
        "            <tr>\n",
        "                <td>Average Volume</td>\n",
        "                <td>{data_dict['avg_volume']}</td>\n",
        "            </tr>\n",
        "            <tr>\n",
        "                <td>Average Surface Area</td>\n",
        "                <td>{data_dict['avg_surface_area']}</td>\n",
        "            </tr>\n",
        "            <tr>\n",
        "                <td>Average Alpha</td>\n",
        "                <td>{data_dict['avg_alpha']}</td>\n",
        "            </tr>\n",
        "            <tr>\n",
        "                <td>Average Beta</td>\n",
        "                <td>{data_dict['avg_beta']}</td>\n",
        "            </tr>\n",
        "            <tr>\n",
        "                <td>Average Gamma</td>\n",
        "                <td>{data_dict['avg_gamma']}</td>\n",
        "            </tr>\n",
        "            <tr>\n",
        "                <td>Average Radius of Described Sphere</td>\n",
        "                <td>{data_dict['avg_radius_described_sphere']}</td>\n",
        "            </tr>\n",
        "            <tr>\n",
        "                <td>Average Volume of Described Sphere</td>\n",
        "                <td>{data_dict['avg_volume_described_sphere']}</td>\n",
        "            </tr>\n",
        "        </table>\n",
        "    </div>\n",
        "    <div id=\"asciiArt\"></div>\n",
        "    <script>\n",
        "        const asciiArt = [\n",
        "            'MY FIRST SKRIPT\\\\n\\\\n',\n",
        "            '    *********',\n",
        "            '   *       **',\n",
        "            '  *       * *',\n",
        "            ' *********  *',\n",
        "            ' *       *  *',\n",
        "            ' *       *  *',\n",
        "            ' *       * *',\n",
        "            ' *********',\n",
        "            '\\\\n\\\\nI LOVE PYTHON'\n",
        "        ];\n",
        "        let artIndex = 0;\n",
        "        function displayArt() {{\n",
        "            if (artIndex < asciiArt.length) {{\n",
        "                document.getElementById('asciiArt').innerText += asciiArt[artIndex] + '\\\\n';\n",
        "                artIndex++;\n",
        "                setTimeout(displayArt, 400);\n",
        "            }}\n",
        "        }}\n",
        "        displayArt();\n",
        "    </script>\n",
        "</body>\n",
        "</html>\n",
        "    \"\"\"\n",
        "\n",
        "    with open(\"data_summary.html\", \"w\") as file:\n",
        "        file.write(html_content)\n"
      ],
      "metadata": {
        "id": "KFrg5mztg-e_"
      },
      "execution_count": 7,
      "outputs": []
    },
    {
      "cell_type": "code",
      "source": [
        "generate_html(data_dict)"
      ],
      "metadata": {
        "id": "ZyMaWpaqsHQu"
      },
      "execution_count": 8,
      "outputs": []
    },
    {
      "cell_type": "code",
      "source": [
        "with open('/content/data_summary.html', 'r') as f:\n",
        "  html_code = f.read()\n",
        "HTML(html_code)"
      ],
      "metadata": {
        "colab": {
          "base_uri": "https://localhost:8080/",
          "height": 1000
        },
        "id": "bQIlRXy8jUlr",
        "outputId": "bf5ad447-34e1-4667-b60f-75a05d50b533"
      },
      "execution_count": 9,
      "outputs": [
        {
          "output_type": "execute_result",
          "data": {
            "text/plain": [
              "<IPython.core.display.HTML object>"
            ],
            "text/html": [
              "\n",
              "<!DOCTYPE html>\n",
              "<html lang=\"en\">\n",
              "<head>\n",
              "    <meta charset=\"UTF-8\">\n",
              "    <meta name=\"viewport\" content=\"width=device-width, initial-scale=1.0\">\n",
              "    <title>Data Summary</title>\n",
              "    <style>\n",
              "        body {\n",
              "            background-color: #000000;\n",
              "            color: #FFFFFF;\n",
              "            font-family: Arial, sans-serif;\n",
              "            display: flex;\n",
              "            flex-direction: column;\n",
              "            align-items: center;\n",
              "            justify-content: center;\n",
              "            height: 100vh;\n",
              "            margin: 0;\n",
              "        }\n",
              "        .container {\n",
              "            text-align: center;\n",
              "            width: 80%;\n",
              "            margin: 0 auto;\n",
              "        }\n",
              "        table {\n",
              "            border-collapse: collapse;\n",
              "            width: 100%;\n",
              "            margin-top: 20px;\n",
              "            background-color: #1c1c1c;\n",
              "        }\n",
              "        th, td {\n",
              "            border: 1px solid #444;\n",
              "            padding: 10px;\n",
              "            text-align: center;\n",
              "        }\n",
              "        th {\n",
              "            background-color: #333;\n",
              "        }\n",
              "        td {\n",
              "            background-color: #222;\n",
              "        }\n",
              "        h1, p {\n",
              "            margin: 10px;\n",
              "        }\n",
              "        .header {\n",
              "            color: #FFD700;\n",
              "        }\n",
              "        #asciiArt {\n",
              "            font-family: monospace;\n",
              "            white-space: pre;\n",
              "            color: #FFD700;\n",
              "            position: absolute;\n",
              "            top: 10px;\n",
              "            right: 10px;\n",
              "        }\n",
              "    </style>\n",
              "</head>\n",
              "<body>\n",
              "    <div class=\"container\">\n",
              "        <h1 class=\"header\">Data Summary</h1>\n",
              "        <p>Мы обработали полученные фигуры и подвели статистику</p>\n",
              "        <table>\n",
              "            <tr>\n",
              "                <th>Parameter</th>\n",
              "                <th>Value</th>\n",
              "            </tr>\n",
              "            <tr>\n",
              "                <td>Average Diagonal</td>\n",
              "                <td>19.36</td>\n",
              "            </tr>\n",
              "            <tr>\n",
              "                <td>Average Volume</td>\n",
              "                <td>1083.06</td>\n",
              "            </tr>\n",
              "            <tr>\n",
              "                <td>Average Surface Area</td>\n",
              "                <td>627.68</td>\n",
              "            </tr>\n",
              "            <tr>\n",
              "                <td>Average Alpha</td>\n",
              "                <td>56.65</td>\n",
              "            </tr>\n",
              "            <tr>\n",
              "                <td>Average Beta</td>\n",
              "                <td>57.81</td>\n",
              "            </tr>\n",
              "            <tr>\n",
              "                <td>Average Gamma</td>\n",
              "                <td>55.5</td>\n",
              "            </tr>\n",
              "            <tr>\n",
              "                <td>Average Radius of Described Sphere</td>\n",
              "                <td>9.68</td>\n",
              "            </tr>\n",
              "            <tr>\n",
              "                <td>Average Volume of Described Sphere</td>\n",
              "                <td>37223.39</td>\n",
              "            </tr>\n",
              "        </table>\n",
              "    </div>\n",
              "    <div id=\"asciiArt\"></div>\n",
              "    <script>\n",
              "        const asciiArt = [\n",
              "            'MY FIRST SKRIPT\\n\\n',\n",
              "            '    *********',\n",
              "            '   *       **',\n",
              "            '  *       * *',\n",
              "            ' *********  *',\n",
              "            ' *       *  *',\n",
              "            ' *       *  *',\n",
              "            ' *       * *',\n",
              "            ' *********',\n",
              "            '\\n\\nI LOVE PYTHON'\n",
              "        ];\n",
              "        let artIndex = 0;\n",
              "        function displayArt() {\n",
              "            if (artIndex < asciiArt.length) {\n",
              "                document.getElementById('asciiArt').innerText += asciiArt[artIndex] + '\\n';\n",
              "                artIndex++;\n",
              "                setTimeout(displayArt, 400);\n",
              "            }\n",
              "        }\n",
              "        displayArt();\n",
              "    </script>\n",
              "</body>\n",
              "</html>\n",
              "    "
            ]
          },
          "metadata": {},
          "execution_count": 9
        }
      ]
    },
    {
      "cell_type": "markdown",
      "source": [
        "## Запись и запуск кода в виде скрипта"
      ],
      "metadata": {
        "id": "76P0h740tJPx"
      }
    },
    {
      "cell_type": "code",
      "source": [
        "py_code = code = \"\"\"\n",
        "# Импорт библиотек\n",
        "import json\n",
        "import math as mt\n",
        "from IPython.display import HTML, display\n",
        "import urllib.request\n",
        "\n",
        "# Скачиваем JSON с Dropbox\n",
        "url = 'https://www.dropbox.com/scl/fi/yhqf1ebi17myh05ywa8so/parallelepipeds.json?rlkey=qypz0m2r0tslkqwmv8tqxh5jx&dl=1'\n",
        "urllib.request.urlretrieve(url, 'parallelepipeds.json')\n",
        "\n",
        "# Загружаем JSON\n",
        "with open('parallelepipeds.json', 'r') as pp_json:\n",
        "    pp_data = json.load(pp_json)\n",
        "\n",
        "fin_dict = {}\n",
        "\n",
        "# Расчёты характеристик фигур\n",
        "for i in range(len(pp_data)):\n",
        "    ifig = \"figure_\" + str(i+1)\n",
        "    fin_dict[ifig] = {}\n",
        "    a = int(pp_data[ifig][\"a\"])\n",
        "    b = int(pp_data[ifig][\"b\"])\n",
        "    c = int(pp_data[ifig][\"c\"])\n",
        "    diag = (a**2 + b**2 + c**2)**0.5\n",
        "    fin_dict[ifig]['diag'] = round(diag, 2)\n",
        "    fin_dict[ifig]['volume'] = a * b * c\n",
        "    fin_dict[ifig]['surface_area'] = 2*(a*b + b*c + a*c)\n",
        "    fin_dict[ifig]['alpha'] = round(mt.degrees(mt.acos(a / diag)), 2)\n",
        "    fin_dict[ifig]['beta'] = round(mt.degrees(mt.acos(b / diag)), 2)\n",
        "    fin_dict[ifig]['gamma'] = round(mt.degrees(mt.acos(c / diag)), 2)\n",
        "    fin_dict[ifig]['radius_described_sphere'] = round(diag / 2, 2)\n",
        "    fin_dict[ifig]['volume_described_sphere'] = round((4/3) * mt.pi * (diag / 2)**3, 2)\n",
        "\n",
        "# Сохраняем подробные характеристики\n",
        "with open(\"characteristics.json\", \"w\") as c_json:\n",
        "    json.dump(fin_dict, c_json, indent=4)\n",
        "\n",
        "# Подсчёт средних значений\n",
        "data_dict = dict.fromkeys((\n",
        "    'avg_diag', 'avg_volume', 'avg_surface_area',\n",
        "    'avg_alpha', 'avg_beta', 'avg_gamma',\n",
        "    'avg_radius_described_sphere', 'avg_volume_described_sphere'\n",
        "), 0)\n",
        "\n",
        "n = len(fin_dict)\n",
        "for i in range(n):\n",
        "    ifig = \"figure_\" + str(i+1)\n",
        "    data_dict[\"avg_diag\"] += fin_dict[ifig]['diag']\n",
        "    data_dict[\"avg_volume\"] += fin_dict[ifig]['volume']\n",
        "    data_dict[\"avg_surface_area\"] += fin_dict[ifig]['surface_area']\n",
        "    data_dict[\"avg_alpha\"] += fin_dict[ifig]['alpha']\n",
        "    data_dict[\"avg_beta\"] += fin_dict[ifig]['beta']\n",
        "    data_dict[\"avg_gamma\"] += fin_dict[ifig]['gamma']\n",
        "    data_dict[\"avg_radius_described_sphere\"] += fin_dict[ifig]['radius_described_sphere']\n",
        "    data_dict[\"avg_volume_described_sphere\"] += fin_dict[ifig]['volume_described_sphere']\n",
        "\n",
        "for key in data_dict:\n",
        "    data_dict[key] = round(data_dict[key] / n, 2)\n",
        "\n",
        "# Генерация HTML\n",
        "html_content = f\\\"\\\"\\\"\n",
        "<!DOCTYPE html>\n",
        "<html lang=\"en\">\n",
        "<head>\n",
        "<meta charset=\"UTF-8\">\n",
        "<title>Data Summary</title>\n",
        "<style>\n",
        "body {{\n",
        "    background-color: #000000;\n",
        "    color: #FFFFFF;\n",
        "    font-family: Arial, sans-serif;\n",
        "    display: flex;\n",
        "    flex-direction: column;\n",
        "    align-items: center;\n",
        "    justify-content: center;\n",
        "    height: 100vh;\n",
        "    margin: 0;\n",
        "}}\n",
        ".container {{\n",
        "    text-align: center;\n",
        "    width: 80%;\n",
        "    margin: 0 auto;\n",
        "}}\n",
        "table {{\n",
        "    border-collapse: collapse;\n",
        "    width: 100%;\n",
        "    margin-top: 20px;\n",
        "    background-color: #1c1c1c;\n",
        "}}\n",
        "th, td {{\n",
        "    border: 1px solid #444;\n",
        "    padding: 10px;\n",
        "    text-align: center;\n",
        "}}\n",
        "th {{\n",
        "    background-color: #333;\n",
        "}}\n",
        "td {{\n",
        "    background-color: #222;\n",
        "}}\n",
        "h1, p {{\n",
        "    margin: 10px;\n",
        "}}\n",
        ".header {{\n",
        "    color: #FFD700;\n",
        "}}\n",
        "#asciiArt {{\n",
        "    font-family: monospace;\n",
        "    white-space: pre;\n",
        "    color: #FFD700;\n",
        "    position: absolute;\n",
        "    top: 10px;\n",
        "    right: 10px;\n",
        "}}\n",
        "</style>\n",
        "</head>\n",
        "<body>\n",
        "<div class=\"container\">\n",
        "<h1 class=\"header\">Data Summary</h1>\n",
        "<p>Мы обработали полученные фигуры и подвели статистику</p>\n",
        "<table>\n",
        "<tr><th>Parameter</th><th>Value</th></tr>\n",
        "<tr><td>Average Diagonal</td><td>{data_dict['avg_diag']}</td></tr>\n",
        "<tr><td>Average Volume</td><td>{data_dict['avg_volume']}</td></tr>\n",
        "<tr><td>Average Surface Area</td><td>{data_dict['avg_surface_area']}</td></tr>\n",
        "<tr><td>Average Alpha</td><td>{data_dict['avg_alpha']}</td></tr>\n",
        "<tr><td>Average Beta</td><td>{data_dict['avg_beta']}</td></tr>\n",
        "<tr><td>Average Gamma</td><td>{data_dict['avg_gamma']}</td></tr>\n",
        "<tr><td>Average Radius of Described Sphere</td><td>{data_dict['avg_radius_described_sphere']}</td></tr>\n",
        "<tr><td>Average Volume of Described Sphere</td><td>{data_dict['avg_volume_described_sphere']}</td></tr>\n",
        "</table>\n",
        "</div>\n",
        "<div id=\"asciiArt\"></div>\n",
        "<script>\n",
        "const asciiArt = [\n",
        "    'MY FIRST SKRIPT\\\\n\\\\n',\n",
        "    '    *********',\n",
        "    '   *       **',\n",
        "    '  *       * *',\n",
        "    ' *********  *',\n",
        "    ' *       *  *',\n",
        "    ' *       *  *',\n",
        "    ' *       * *',\n",
        "    ' *********',\n",
        "    '\\\\n\\\\nI LOVE PYTHON'\n",
        "];\n",
        "let artIndex = 0;\n",
        "function displayArt() {{\n",
        "    if (artIndex < asciiArt.length) {{\n",
        "        document.getElementById('asciiArt').innerText += asciiArt[artIndex] + '\\\\n';\n",
        "        artIndex++;\n",
        "        setTimeout(displayArt, 400);\n",
        "    }}\n",
        "}}\n",
        "displayArt();\n",
        "</script>\n",
        "</body>\n",
        "</html>\n",
        "\\\"\\\"\\\"\n",
        "\n",
        "with open(\"data_summary.html\", \"w\") as f:\n",
        "    f.write(html_content)\n",
        "\n",
        "print(\"Скрипт выполнен. Файлы сохранены:\")\n",
        "print(\"characteristics.json\")\n",
        "print(\"data_summary.html\")\n",
        "\n",
        "with open(\"data_summary.html\") as f:\n",
        "    display(HTML(f.read()))\n",
        "\"\"\"\n",
        "\n",
        "with open('parallelepiped_script.py', 'w') as f2:\n",
        "  f2.write(code)\n"
      ],
      "metadata": {
        "id": "C8G9ST51tPAz"
      },
      "execution_count": 10,
      "outputs": []
    },
    {
      "cell_type": "code",
      "source": [
        "!python /content/parallelepiped_script.py"
      ],
      "metadata": {
        "colab": {
          "base_uri": "https://localhost:8080/"
        },
        "id": "vbj31o3puICV",
        "outputId": "207adfc1-1203-4f87-cba3-62fd19339d26"
      },
      "execution_count": 11,
      "outputs": [
        {
          "output_type": "stream",
          "name": "stdout",
          "text": [
            "Скрипт выполнен. Файлы сохранены:\n",
            "characteristics.json\n",
            "data_summary.html\n",
            "<IPython.core.display.HTML object>\n"
          ]
        }
      ]
    },
    {
      "cell_type": "markdown",
      "source": [
        "Никак не могу сделать вывод html-страницы при запуске скрипта. Можно просто загрузить json-файл, но очень хочется по красоте, правда можгов не хватает. Если сможете подсказать, было бы очень классно 🥺"
      ],
      "metadata": {
        "id": "iG4TsTMEwOrV"
      }
    }
  ]
}